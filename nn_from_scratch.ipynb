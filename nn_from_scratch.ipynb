{
 "cells": [
  {
   "cell_type": "markdown",
   "metadata": {},
   "source": [
    "## Imports"
   ]
  },
  {
   "cell_type": "code",
   "execution_count": 21,
   "metadata": {},
   "outputs": [],
   "source": [
    "import numpy as np\n",
    "import matplotlib.pyplot as plt\n",
    "import random"
   ]
  },
  {
   "cell_type": "markdown",
   "metadata": {},
   "source": [
    "##  Functions"
   ]
  },
  {
   "cell_type": "code",
   "execution_count": 22,
   "metadata": {},
   "outputs": [],
   "source": [
    "def show_image(img):\n",
    "    image = np.zeros((28, 28))\n",
    "    for i in range(28):\n",
    "        for j in range(28):\n",
    "            image[i, j] = img[i * 28 + j]\n",
    "    plt.imshow(image, 'gray')"
   ]
  },
  {
   "cell_type": "code",
   "execution_count": 23,
   "metadata": {},
   "outputs": [],
   "source": [
    "def sigmoid(x):\n",
    "    return 1 / (1 + np.exp(-x))"
   ]
  },
  {
   "cell_type": "code",
   "execution_count": 24,
   "metadata": {},
   "outputs": [],
   "source": [
    "def sigmoid_deriv(x): \n",
    "    s = sigmoid(x)\n",
    "    return s * (1 - s)"
   ]
  },
  {
   "cell_type": "code",
   "execution_count": 25,
   "metadata": {},
   "outputs": [],
   "source": [
    "def cost(actual_output, predicted_output):\n",
    "    cost = 0\n",
    "    for i in range(10):\n",
    "        cost += (actual_output[i] - predicted_output[i]) ** 2\n",
    "    return cost"
   ]
  },
  {
   "cell_type": "markdown",
   "metadata": {},
   "source": [
    "## Reading The Train Set"
   ]
  },
  {
   "cell_type": "code",
   "execution_count": 26,
   "metadata": {},
   "outputs": [],
   "source": [
    "train_images_file = open('dataset/train-images.idx3-ubyte', 'rb')\n",
    "train_images_file.seek(4)\n",
    "num_of_train_images = int.from_bytes(train_images_file.read(4), 'big')\n",
    "train_images_file.seek(16)\n",
    "\n",
    "train_labels_file = open('dataset/train-labels.idx1-ubyte', 'rb')\n",
    "train_labels_file.seek(8)\n",
    "\n",
    "train_set = []\n",
    "for n in range(num_of_train_images):\n",
    "    image = np.zeros((784, 1))\n",
    "    for i in range(784):\n",
    "        image[i, 0] = int.from_bytes(train_images_file.read(1), 'big') / 256\n",
    "    \n",
    "    label_value = int.from_bytes(train_labels_file.read(1), 'big')\n",
    "    label = np.zeros((10, 1))\n",
    "    label[label_value, 0] = 1\n",
    "    \n",
    "    train_set.append((image, label))"
   ]
  },
  {
   "cell_type": "markdown",
   "metadata": {},
   "source": [
    "## Reading The Test Set"
   ]
  },
  {
   "cell_type": "code",
   "execution_count": 27,
   "metadata": {},
   "outputs": [],
   "source": [
    "test_images_file = open('dataset/t10k-images.idx3-ubyte', 'rb')\n",
    "test_images_file.seek(4)\n",
    "\n",
    "test_labels_file = open('dataset/t10k-labels.idx1-ubyte', 'rb')\n",
    "test_labels_file.seek(8)\n",
    "\n",
    "num_of_test_images = int.from_bytes(test_images_file.read(4), 'big')\n",
    "test_images_file.seek(16)\n",
    "\n",
    "test_set = []\n",
    "for n in range(num_of_test_images):\n",
    "    image = np.zeros((784, 1))\n",
    "    for i in range(784):\n",
    "        image[i] = int.from_bytes(test_images_file.read(1), 'big') / 256\n",
    "    \n",
    "    label_value = int.from_bytes(test_labels_file.read(1), 'big')\n",
    "    label = np.zeros((10, 1))\n",
    "    label[label_value, 0] = 1\n",
    "    \n",
    "    test_set.append((image, label))"
   ]
  },
  {
   "cell_type": "code",
   "execution_count": 28,
   "metadata": {},
   "outputs": [
    {
     "data": {
      "image/png": "[encoded data removed]",
      "text/plain": [
       "<Figure size 432x288 with 1 Axes>"
      ]
     },
     "metadata": {
      "needs_background": "light"
     },
     "output_type": "display_data"
    }
   ],
   "source": [
    "show_image(test_set[5][0])"
   ]
  },
  {
   "cell_type": "markdown",
   "metadata": {},
   "source": [
    "## Weights and Biases Random Initialization"
   ]
  },
  {
   "cell_type": "code",
   "execution_count": 29,
   "metadata": {},
   "outputs": [],
   "source": [
    "# layer 1\n",
    "W1 = np.random.normal(0, 2 / 784, size=(16, 784))\n",
    "b1 = np.zeros((16, 1))\n",
    "    \n",
    "# layer 2\n",
    "W2 = np.random.normal(0, 2 / 16, size=(16, 16))\n",
    "b2 = np.zeros((16, 1))\n",
    "\n",
    "# layer 3\n",
    "W3 = np.random.normal(0, 2 / 16, size=(10, 16))\n",
    "b3 = np.zeros((10, 1))"
   ]
  },
  {
   "cell_type": "markdown",
   "metadata": {},
   "source": [
    "## Hyperparameters"
   ]
  },
  {
   "cell_type": "code",
   "execution_count": 30,
   "metadata": {},
   "outputs": [],
   "source": [
    "num_samples = len(train_set)\n",
    "batch_size = 50\n",
    "num_epochs = 5\n",
    "alpha = 1"
   ]
  },
  {
   "cell_type": "markdown",
   "metadata": {},
   "source": [
    "## Training The Neural Network"
   ]
  },
  {
   "cell_type": "code",
   "execution_count": 31,
   "metadata": {},
   "outputs": [
    {
     "name": "stdout",
     "output_type": "stream",
     "text": [
      "epoch number: 0\n",
      "epoch number: 1\n",
      "epoch number: 2\n",
      "epoch number: 3\n",
      "epoch number: 4\n"
     ]
    }
   ],
   "source": [
    "avg_costs = []\n",
    "\n",
    "for epoch in range(num_epochs):\n",
    "    \n",
    "    print('epoch number:', epoch)\n",
    "    \n",
    "    # shuffling the train set\n",
    "    random.shuffle(train_set)\n",
    "    \n",
    "    sum_cost = 0\n",
    "    \n",
    "    for batch_number in range(num_samples // batch_size):\n",
    "        \n",
    "        # gradients\n",
    "        grad_W3 = np.zeros((10, 16))\n",
    "        grad_b3 = np.zeros((10, 1))\n",
    "\n",
    "        grad_W2 = np.zeros((16, 16))\n",
    "        grad_b2 = np.zeros((16, 1))\n",
    "\n",
    "        grad_W1 = np.zeros((16, 784))\n",
    "        grad_b1 = np.zeros((16, 1))\n",
    "        \n",
    "        for image_index in range(batch_number * batch_size, (batch_number + 1) * batch_size):\n",
    "        \n",
    "            # neurons\n",
    "            a0 = train_set[image_index][0]\n",
    "            a1 = np.zeros((1, 16))\n",
    "            a2 = np.zeros((1, 16))\n",
    "            a3 = np.zeros((1, 10))\n",
    "\n",
    "            # labels\n",
    "            y = train_set[image_index][1]\n",
    "\n",
    "            # forward phase\n",
    "            z1 = W1 @ a0 + b1\n",
    "            a1 = sigmoid(z1)\n",
    "            z2 = W2 @ a1 + b2\n",
    "            a2 = sigmoid(z2)\n",
    "            z3 = W3 @ a2 + b3\n",
    "            a3 = sigmoid(z3)\n",
    "\n",
    "            sum_cost += cost(a3, y)\n",
    "\n",
    "    \n",
    "            # backpropagation\n",
    "\n",
    "            # layer 3\n",
    "            grad_W3 += (2 * sigmoid_deriv(z3) * (a3 - y)) @ (np.transpose(a2))\n",
    "            grad_b3 += 2 * sigmoid_deriv(z3) * (a3 - y)\n",
    "            grad_a2 = np.transpose(W3) @ (2 * sigmoid_deriv(z3) * (a3 - y))\n",
    "\n",
    "            # layer 2\n",
    "            grad_W2 += (sigmoid_deriv(z2) * grad_a2) @ (np.transpose(a1))\n",
    "            grad_b2 += sigmoid_deriv(z2) * grad_a2\n",
    "            grad_a1 = np.transpose(W2) @ (sigmoid_deriv(z2) * grad_a2)\n",
    "\n",
    "            # layer 1\n",
    "            grad_W1 += (sigmoid_deriv(z1) * grad_a1) @ (np.transpose(a0))\n",
    "            grad_b1 += sigmoid_deriv(z1) * grad_a1\n",
    "\n",
    "    \n",
    "        # updating weights and biases\n",
    "        W3 = W3 - alpha * (grad_W3 / batch_size)\n",
    "        b3 = b3 - alpha * (grad_b3 / batch_size)\n",
    "        W2 = W2 - alpha * (grad_W2 / batch_size)\n",
    "        b2 = b2 - alpha * (grad_b2 / batch_size)\n",
    "        W1 = W1 - alpha * (grad_W1 / batch_size)\n",
    "        b1 = b1 - alpha * (grad_b1 / batch_size)\n",
    "\n",
    "    # recording average cost in the current step\n",
    "    avg_costs.append(sum_cost / num_samples)"
   ]
  },
  {
   "cell_type": "markdown",
   "metadata": {},
   "source": [
    "## Average Cost Over Time"
   ]
  },
  {
   "cell_type": "code",
   "execution_count": 32,
   "metadata": {},
   "outputs": [
    {
     "data": {
      "image/png": "[encoded data removed]",
      "text/plain": [
       "<Figure size 432x288 with 1 Axes>"
      ]
     },
     "metadata": {
      "needs_background": "light"
     },
     "output_type": "display_data"
    }
   ],
   "source": [
    "plt.plot([i for i in range(len(avg_costs))], avg_costs)\n",
    "plt.show()"
   ]
  },
  {
   "cell_type": "markdown",
   "metadata": {},
   "source": [
    "## Evaluating The Network on the Train Set"
   ]
  },
  {
   "cell_type": "code",
   "execution_count": 33,
   "metadata": {},
   "outputs": [
    {
     "name": "stdout",
     "output_type": "stream",
     "text": [
      "Success Rate = 56251/60000 = 0.9375166666666667\n"
     ]
    }
   ],
   "source": [
    "true_predictions = 0\n",
    "\n",
    "for i in range(num_samples):\n",
    "    a0 = train_set[i][0]\n",
    "    z1 = W1 @ a0 + b1\n",
    "    a1 = sigmoid(z1)\n",
    "    z2 = W2 @ a1 + b2\n",
    "    a2 = sigmoid(z2)\n",
    "    z3 = W3 @ a2 + b3\n",
    "    a3 = sigmoid(z3)\n",
    "    \n",
    "    actual_value = -1\n",
    "    for j in range(10):\n",
    "        if (train_set[i][1])[j] == 1:\n",
    "            actual_value = j\n",
    "            break\n",
    "            \n",
    "    predicted_value = 0\n",
    "    for j in range(1, 10):\n",
    "        if a3[j, 0] > a3[predicted_value, 0]:\n",
    "            predicted_value = j\n",
    "    \n",
    "    if predicted_value == actual_value:\n",
    "        true_predictions += 1\n",
    "    \n",
    "succes_rate = true_predictions / num_of_train_images\n",
    "print(f'Success Rate = {true_predictions}/{num_of_train_images} = {succes_rate}')"
   ]
  },
  {
   "cell_type": "markdown",
   "metadata": {},
   "source": [
    "## Evaluating The Network on the Test Set"
   ]
  },
  {
   "cell_type": "code",
   "execution_count": 34,
   "metadata": {},
   "outputs": [
    {
     "name": "stdout",
     "output_type": "stream",
     "text": [
      "Success Rate = 9294/10000 = 0.9294\n"
     ]
    }
   ],
   "source": [
    "true_predictions = 0\n",
    "\n",
    "for i in range(num_of_test_images):\n",
    "    a0 = test_set[i][0] \n",
    "    z1 = W1 @ a0 + b1\n",
    "    a1 = sigmoid(z1)\n",
    "    z2 = W2 @ a1 + b2\n",
    "    a2 = sigmoid(z2)\n",
    "    z3 = W3 @ a2 + b3\n",
    "    a3 = sigmoid(z3)\n",
    "    \n",
    "    actual_value = -1\n",
    "    for j in range(10):\n",
    "        if (test_set[i][1])[j] == 1:\n",
    "            actual_value = j\n",
    "            break\n",
    "            \n",
    "    predicted_value = 0\n",
    "    for j in range(1, 10):\n",
    "        if a3[j, 0] > a3[predicted_value, 0]:\n",
    "            predicted_value = j\n",
    "        \n",
    "    if predicted_value == actual_value:\n",
    "        true_predictions += 1\n",
    "    \n",
    "succes_rate = true_predictions / num_of_test_images\n",
    "print(f'Success Rate = {true_predictions}/{num_of_test_images} = {succes_rate}')"
   ]
  }
 ],
 "metadata": {
  "kernelspec": {
   "display_name": "3.9.4",
   "language": "python",
   "name": "3.9.4"
  },
  "language_info": {
   "codemirror_mode": {
    "name": "ipython",
    "version": 3
   },
   "file_extension": ".py",
   "mimetype": "text/x-python",
   "name": "python",
   "nbconvert_exporter": "python",
   "pygments_lexer": "ipython3",
   "version": "3.9.4"
  }
 },
 "nbformat": 4,
 "nbformat_minor": 4
}
